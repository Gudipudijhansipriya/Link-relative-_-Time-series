{
 "cells": [
  {
   "cell_type": "markdown",
   "id": "c5e86f89",
   "metadata": {},
   "source": [
    "\n",
    "# Link_relative"
   ]
  },
  {
   "cell_type": "code",
   "execution_count": 1,
   "id": "6b6da2e6",
   "metadata": {},
   "outputs": [],
   "source": [
    "import pandas as pd\n",
    "import numpy as np\n",
    "import matplotlib.pyplot as plt\n",
    "import seaborn as sns\n"
   ]
  },
  {
   "cell_type": "code",
   "execution_count": 3,
   "id": "fa54aafb",
   "metadata": {},
   "outputs": [
    {
     "data": {
      "text/html": [
       "<div>\n",
       "<style scoped>\n",
       "    .dataframe tbody tr th:only-of-type {\n",
       "        vertical-align: middle;\n",
       "    }\n",
       "\n",
       "    .dataframe tbody tr th {\n",
       "        vertical-align: top;\n",
       "    }\n",
       "\n",
       "    .dataframe thead th {\n",
       "        text-align: right;\n",
       "    }\n",
       "</style>\n",
       "<table border=\"1\" class=\"dataframe\">\n",
       "  <thead>\n",
       "    <tr style=\"text-align: right;\">\n",
       "      <th></th>\n",
       "      <th>year</th>\n",
       "      <th>Q-1</th>\n",
       "      <th>Q-2</th>\n",
       "      <th>Q-3</th>\n",
       "      <th>Q-4</th>\n",
       "    </tr>\n",
       "  </thead>\n",
       "  <tbody>\n",
       "    <tr>\n",
       "      <th>0</th>\n",
       "      <td>2008</td>\n",
       "      <td>65</td>\n",
       "      <td>60</td>\n",
       "      <td>61</td>\n",
       "      <td>63</td>\n",
       "    </tr>\n",
       "    <tr>\n",
       "      <th>1</th>\n",
       "      <td>2009</td>\n",
       "      <td>70</td>\n",
       "      <td>58</td>\n",
       "      <td>56</td>\n",
       "      <td>60</td>\n",
       "    </tr>\n",
       "    <tr>\n",
       "      <th>2</th>\n",
       "      <td>2010</td>\n",
       "      <td>68</td>\n",
       "      <td>63</td>\n",
       "      <td>68</td>\n",
       "      <td>67</td>\n",
       "    </tr>\n",
       "    <tr>\n",
       "      <th>3</th>\n",
       "      <td>2011</td>\n",
       "      <td>65</td>\n",
       "      <td>59</td>\n",
       "      <td>56</td>\n",
       "      <td>62</td>\n",
       "    </tr>\n",
       "    <tr>\n",
       "      <th>4</th>\n",
       "      <td>2012</td>\n",
       "      <td>60</td>\n",
       "      <td>55</td>\n",
       "      <td>51</td>\n",
       "      <td>58</td>\n",
       "    </tr>\n",
       "  </tbody>\n",
       "</table>\n",
       "</div>"
      ],
      "text/plain": [
       "   year  Q-1  Q-2  Q-3  Q-4\n",
       "0  2008   65   60   61   63\n",
       "1  2009   70   58   56   60\n",
       "2  2010   68   63   68   67\n",
       "3  2011   65   59   56   62\n",
       "4  2012   60   55   51   58"
      ]
     },
     "execution_count": 3,
     "metadata": {},
     "output_type": "execute_result"
    }
   ],
   "source": [
    "link=pd.read_csv(\"C:\\\\Users\\\\Lenovo\\\\OneDrive\\\\Desktop\\\\Timeseries_lab\\\\lab5\\\\link_relative.csv\")\n",
    "link"
   ]
  },
  {
   "cell_type": "code",
   "execution_count": 5,
   "id": "2aaf0cca",
   "metadata": {},
   "outputs": [
    {
     "data": {
      "text/plain": [
       "array([65., 60., 61., 63., 70., 58., 56., 60., 68., 63., 68., 67., 65.,\n",
       "       59., 56., 62., 60., 55., 51., 58.])"
      ]
     },
     "execution_count": 5,
     "metadata": {},
     "output_type": "execute_result"
    }
   ],
   "source": [
    "# Convert the data frame into numpy one dimentional array\n",
    "series = link.iloc[:, 1:].astype(float)\n",
    "series = np.reshape(np.array(series), 20)\n",
    "series "
   ]
  },
  {
   "cell_type": "code",
   "execution_count": 7,
   "id": "c477e9a6",
   "metadata": {},
   "outputs": [
    {
     "data": {
      "image/png": "[encoded data removed]",
      "text/plain": [
       "<Figure size 720x432 with 1 Axes>"
      ]
     },
     "metadata": {
      "needs_background": "light"
     },
     "output_type": "display_data"
    }
   ],
   "source": [
    "# Plot the serie's data\n",
    "plt.figure(figsize=(10, 6))\n",
    "sns.lineplot(data=series)\n",
    "plt.xticks(range(0, 21))\n",
    "plt.title('Serie')\n",
    "plt.show()"
   ]
  },
  {
   "cell_type": "code",
   "execution_count": 9,
   "id": "642edf0c",
   "metadata": {},
   "outputs": [],
   "source": [
    "s = []\n",
    "for i in range(len(series)):\n",
    "    if i == 0:\n",
    "        s.append(i)\n",
    "    else:\n",
    "        s.append((series[i]/series[i-1]) * 100)"
   ]
  },
  {
   "cell_type": "code",
   "execution_count": 10,
   "id": "f905732a",
   "metadata": {},
   "outputs": [
    {
     "data": {
      "text/html": [
       "<div>\n",
       "<style scoped>\n",
       "    .dataframe tbody tr th:only-of-type {\n",
       "        vertical-align: middle;\n",
       "    }\n",
       "\n",
       "    .dataframe tbody tr th {\n",
       "        vertical-align: top;\n",
       "    }\n",
       "\n",
       "    .dataframe thead th {\n",
       "        text-align: right;\n",
       "    }\n",
       "</style>\n",
       "<table border=\"1\" class=\"dataframe\">\n",
       "  <thead>\n",
       "    <tr style=\"text-align: right;\">\n",
       "      <th></th>\n",
       "      <th>year</th>\n",
       "      <th>Q-1</th>\n",
       "      <th>Q-2</th>\n",
       "      <th>Q-3</th>\n",
       "      <th>Q-4</th>\n",
       "    </tr>\n",
       "  </thead>\n",
       "  <tbody>\n",
       "    <tr>\n",
       "      <th>0</th>\n",
       "      <td>2008</td>\n",
       "      <td>0.000000</td>\n",
       "      <td>92.307692</td>\n",
       "      <td>101.666667</td>\n",
       "      <td>103.278689</td>\n",
       "    </tr>\n",
       "    <tr>\n",
       "      <th>1</th>\n",
       "      <td>2009</td>\n",
       "      <td>111.111111</td>\n",
       "      <td>82.857143</td>\n",
       "      <td>96.551724</td>\n",
       "      <td>107.142857</td>\n",
       "    </tr>\n",
       "    <tr>\n",
       "      <th>2</th>\n",
       "      <td>2010</td>\n",
       "      <td>113.333333</td>\n",
       "      <td>92.647059</td>\n",
       "      <td>107.936508</td>\n",
       "      <td>98.529412</td>\n",
       "    </tr>\n",
       "    <tr>\n",
       "      <th>3</th>\n",
       "      <td>2011</td>\n",
       "      <td>97.014925</td>\n",
       "      <td>90.769231</td>\n",
       "      <td>94.915254</td>\n",
       "      <td>110.714286</td>\n",
       "    </tr>\n",
       "    <tr>\n",
       "      <th>4</th>\n",
       "      <td>2012</td>\n",
       "      <td>96.774194</td>\n",
       "      <td>91.666667</td>\n",
       "      <td>92.727273</td>\n",
       "      <td>113.725490</td>\n",
       "    </tr>\n",
       "  </tbody>\n",
       "</table>\n",
       "</div>"
      ],
      "text/plain": [
       "   year         Q-1        Q-2         Q-3         Q-4\n",
       "0  2008    0.000000  92.307692  101.666667  103.278689\n",
       "1  2009  111.111111  82.857143   96.551724  107.142857\n",
       "2  2010  113.333333  92.647059  107.936508   98.529412\n",
       "3  2011   97.014925  90.769231   94.915254  110.714286\n",
       "4  2012   96.774194  91.666667   92.727273  113.725490"
      ]
     },
     "execution_count": 10,
     "metadata": {},
     "output_type": "execute_result"
    }
   ],
   "source": [
    "new_series = np.reshape(s, (5, 4))\n",
    "df = link.copy()\n",
    "df.iloc[:, 1:] = new_series\n",
    "df"
   ]
  },
  {
   "cell_type": "code",
   "execution_count": 11,
   "id": "e9091b6b",
   "metadata": {},
   "outputs": [
    {
     "name": "stdout",
     "output_type": "stream",
     "text": [
      "Total of Link Relative\n",
      " Q-1    418.233563\n",
      "Q-2    450.247791\n",
      "Q-3    493.797426\n",
      "Q-4    533.390733\n",
      "dtype: float64\n"
     ]
    }
   ],
   "source": [
    "# Total of Link Relative\n",
    "total_lr = df.iloc[:, 1:].sum(axis=0)\n",
    "print('Total of Link Relative\\n',total_lr)"
   ]
  },
  {
   "cell_type": "code",
   "execution_count": 12,
   "id": "b2a69d4c",
   "metadata": {},
   "outputs": [
    {
     "name": "stdout",
     "output_type": "stream",
     "text": [
      "\n",
      "Average of Link Relative\n",
      " Q-1    104.558391\n",
      "Q-2     90.049558\n",
      "Q-3     98.759485\n",
      "Q-4    106.678147\n",
      "dtype: float64\n"
     ]
    }
   ],
   "source": [
    "# Average of Link Relative\n",
    "avg_lr = df.iloc[:, 2:].mean(axis=0)\n",
    "avg_lr['Q-1'] = df.iloc[1:, 1].mean()\n",
    "avg_lr = avg_lr.sort_index()\n",
    "print('\\nAverage of Link Relative\\n',avg_lr)"
   ]
  },
  {
   "cell_type": "code",
   "execution_count": 13,
   "id": "0d239f65",
   "metadata": {},
   "outputs": [],
   "source": [
    "# Calculate chain relative\n",
    "cr = []\n",
    "for i in range(len(avg_lr)):\n",
    "    if i == 0:\n",
    "        cr.append(100)\n",
    "    else:\n",
    "        cr.append((avg_lr[i] * cr[-1]) / 100)"
   ]
  },
  {
   "cell_type": "code",
   "execution_count": 14,
   "id": "b082272a",
   "metadata": {},
   "outputs": [
    {
     "name": "stdout",
     "output_type": "stream",
     "text": [
      "Chain Relative\n",
      " Q-1    100.000000\n",
      "Q-2     90.049558\n",
      "Q-3     88.932480\n",
      "Q-4     94.871522\n",
      "dtype: float64\n"
     ]
    }
   ],
   "source": [
    "# Convert into pandas serie\n",
    "cr = pd.Series(cr, index=avg_lr.index)\n",
    "print('Chain Relative\\n',cr)"
   ]
  },
  {
   "cell_type": "code",
   "execution_count": 15,
   "id": "9eac19bf",
   "metadata": {},
   "outputs": [
    {
     "name": "stdout",
     "output_type": "stream",
     "text": [
      "\n",
      "Average of chain Relative\n",
      " 93.46339000302689\n"
     ]
    }
   ],
   "source": [
    "# Calculate the average of the chain relative\n",
    "avg_cr = cr.mean()\n",
    "print('\\nAverage of chain Relative\\n',avg_cr)"
   ]
  },
  {
   "cell_type": "code",
   "execution_count": 18,
   "id": "a280c9ea",
   "metadata": {},
   "outputs": [
    {
     "data": {
      "text/plain": [
       "-0.20096591380964668"
      ]
     },
     "execution_count": 18,
     "metadata": {},
     "output_type": "execute_result"
    }
   ],
   "source": [
    "# Calculate the correction factor\n",
    "new_Qt = (avg_lr[0] * cr[3]) / 100 \n",
    "d = (new_Qt - 100) / 4 \n",
    "d"
   ]
  },
  {
   "cell_type": "code",
   "execution_count": 19,
   "id": "08e5484a",
   "metadata": {},
   "outputs": [
    {
     "data": {
      "text/plain": [
       "99.19613634476141"
      ]
     },
     "execution_count": 19,
     "metadata": {},
     "output_type": "execute_result"
    }
   ],
   "source": [
    "new_Qt"
   ]
  },
  {
   "cell_type": "code",
   "execution_count": 20,
   "id": "a775bd41",
   "metadata": {},
   "outputs": [],
   "source": [
    "# Calculate Adjusted link relative quaterly\n",
    "Adj_cr = [100]\n",
    "Adj_cr.append(cr[1] - d)\n",
    "Adj_cr.append(cr[2] - 2*d)\n",
    "Adj_cr.append(cr[3] - 3*d)"
   ]
  },
  {
   "cell_type": "code",
   "execution_count": 21,
   "id": "f861f7bb",
   "metadata": {},
   "outputs": [
    {
     "data": {
      "text/plain": [
       "Q-1    100.000000\n",
       "Q-2     90.250524\n",
       "Q-3     89.334412\n",
       "Q-4     95.474419\n",
       "dtype: float64"
      ]
     },
     "execution_count": 21,
     "metadata": {},
     "output_type": "execute_result"
    }
   ],
   "source": [
    "# Convert into pandas serie\n",
    "Adj_cr = pd.Series(Adj_cr, index=avg_lr.index)\n",
    "Adj_cr\n"
   ]
  },
  {
   "cell_type": "code",
   "execution_count": 23,
   "id": "24460458",
   "metadata": {},
   "outputs": [
    {
     "data": {
      "text/plain": [
       "93.76483887374135"
      ]
     },
     "execution_count": 23,
     "metadata": {},
     "output_type": "execute_result"
    }
   ],
   "source": [
    "# Average of Adjusted CR\n",
    "avg_adj_cr = Adj_cr.mean()\n",
    "avg_adj_cr"
   ]
  },
  {
   "cell_type": "code",
   "execution_count": 24,
   "id": "ca10f193",
   "metadata": {},
   "outputs": [
    {
     "data": {
      "text/plain": [
       "Q-1    106.649786\n",
       "Q-2     96.251991\n",
       "Q-3     95.274959\n",
       "Q-4    101.823264\n",
       "dtype: float64"
      ]
     },
     "execution_count": 24,
     "metadata": {},
     "output_type": "execute_result"
    }
   ],
   "source": [
    "# Calculate the Seasonal Indices\n",
    "index_s = []\n",
    "for i in Adj_cr:\n",
    "    index_s.append((i/avg_adj_cr)*100)\n",
    "# Convert into pandas serie\n",
    "index_s = pd.Series(index_s, index=avg_lr.index)\n",
    "index_s      \n"
   ]
  },
  {
   "cell_type": "markdown",
   "id": "0241a258",
   "metadata": {},
   "source": [
    "#### Using Ratio-to-Trend method"
   ]
  },
  {
   "cell_type": "code",
   "execution_count": 26,
   "id": "f6af4716",
   "metadata": {},
   "outputs": [],
   "source": [
    "# Compute the mean of each year\n",
    "link['x'] = link.iloc[:, 1:].mean(axis=1)\n",
    "# Sum of x\n",
    "sum_x = link['x'].sum()\n",
    "# Define t value (time parameter)\n",
    "link['t'] = range(-2, 3)\n",
    "# Sum of t\n",
    "sum_t = link['t'].sum()\n",
    "# Compute t square\n",
    "link['t2'] =link['t']**2\n",
    "# sum of t square\n",
    "sum_t_square = link['t2'].sum()\n",
    "# Compute the product x into t\n",
    "link['x*t'] =link['x'] * link['t']  \n",
    "# Compute the sum of x times t\n",
    "sum_xt = link['x*t'].sum()"
   ]
  },
  {
   "cell_type": "code",
   "execution_count": 27,
   "id": "42a16916",
   "metadata": {},
   "outputs": [
    {
     "data": {
      "text/html": [
       "<div>\n",
       "<style scoped>\n",
       "    .dataframe tbody tr th:only-of-type {\n",
       "        vertical-align: middle;\n",
       "    }\n",
       "\n",
       "    .dataframe tbody tr th {\n",
       "        vertical-align: top;\n",
       "    }\n",
       "\n",
       "    .dataframe thead th {\n",
       "        text-align: right;\n",
       "    }\n",
       "</style>\n",
       "<table border=\"1\" class=\"dataframe\">\n",
       "  <thead>\n",
       "    <tr style=\"text-align: right;\">\n",
       "      <th></th>\n",
       "      <th>year</th>\n",
       "      <th>Q-1</th>\n",
       "      <th>Q-2</th>\n",
       "      <th>Q-3</th>\n",
       "      <th>Q-4</th>\n",
       "      <th>x</th>\n",
       "      <th>t</th>\n",
       "      <th>t2</th>\n",
       "      <th>x*t</th>\n",
       "    </tr>\n",
       "  </thead>\n",
       "  <tbody>\n",
       "    <tr>\n",
       "      <th>0</th>\n",
       "      <td>2008</td>\n",
       "      <td>65</td>\n",
       "      <td>60</td>\n",
       "      <td>61</td>\n",
       "      <td>63</td>\n",
       "      <td>62.25</td>\n",
       "      <td>-2</td>\n",
       "      <td>4</td>\n",
       "      <td>-124.5</td>\n",
       "    </tr>\n",
       "    <tr>\n",
       "      <th>1</th>\n",
       "      <td>2009</td>\n",
       "      <td>70</td>\n",
       "      <td>58</td>\n",
       "      <td>56</td>\n",
       "      <td>60</td>\n",
       "      <td>61.00</td>\n",
       "      <td>-1</td>\n",
       "      <td>1</td>\n",
       "      <td>-61.0</td>\n",
       "    </tr>\n",
       "    <tr>\n",
       "      <th>2</th>\n",
       "      <td>2010</td>\n",
       "      <td>68</td>\n",
       "      <td>63</td>\n",
       "      <td>68</td>\n",
       "      <td>67</td>\n",
       "      <td>66.50</td>\n",
       "      <td>0</td>\n",
       "      <td>0</td>\n",
       "      <td>0.0</td>\n",
       "    </tr>\n",
       "    <tr>\n",
       "      <th>3</th>\n",
       "      <td>2011</td>\n",
       "      <td>65</td>\n",
       "      <td>59</td>\n",
       "      <td>56</td>\n",
       "      <td>62</td>\n",
       "      <td>60.50</td>\n",
       "      <td>1</td>\n",
       "      <td>1</td>\n",
       "      <td>60.5</td>\n",
       "    </tr>\n",
       "    <tr>\n",
       "      <th>4</th>\n",
       "      <td>2012</td>\n",
       "      <td>60</td>\n",
       "      <td>55</td>\n",
       "      <td>51</td>\n",
       "      <td>58</td>\n",
       "      <td>56.00</td>\n",
       "      <td>2</td>\n",
       "      <td>4</td>\n",
       "      <td>112.0</td>\n",
       "    </tr>\n",
       "  </tbody>\n",
       "</table>\n",
       "</div>"
      ],
      "text/plain": [
       "   year  Q-1  Q-2  Q-3  Q-4      x  t  t2    x*t\n",
       "0  2008   65   60   61   63  62.25 -2   4 -124.5\n",
       "1  2009   70   58   56   60  61.00 -1   1  -61.0\n",
       "2  2010   68   63   68   67  66.50  0   0    0.0\n",
       "3  2011   65   59   56   62  60.50  1   1   60.5\n",
       "4  2012   60   55   51   58  56.00  2   4  112.0"
      ]
     },
     "execution_count": 27,
     "metadata": {},
     "output_type": "execute_result"
    }
   ],
   "source": [
    "link"
   ]
  },
  {
   "cell_type": "code",
   "execution_count": 30,
   "id": "25d4df57",
   "metadata": {},
   "outputs": [
    {
     "name": "stdout",
     "output_type": "stream",
     "text": [
      "Slope : -1.3\n",
      "Intercept : 61.25\n",
      "The line equation is y = -1.3*t + 61.25\n"
     ]
    }
   ],
   "source": [
    "# Equation line is : y = b0 + b1 * t\n",
    "# In this case the sum of t is equal to 0 so the formula is :\n",
    "b1 = -(link['x'].size * sum_xt)/ ( -(link['x'].size * sum_t_square))\n",
    "b0 = link['x'].mean() - link['t'].mean() * b1\n",
    "\n",
    "print(f'Slope : {b1}\\nIntercept : {b0}')\n",
    "print(f'The line equation is y = {b1}*t + {b0}')"
   ]
  },
  {
   "cell_type": "code",
   "execution_count": 31,
   "id": "1298d26d",
   "metadata": {},
   "outputs": [
    {
     "data": {
      "text/html": [
       "<div>\n",
       "<style scoped>\n",
       "    .dataframe tbody tr th:only-of-type {\n",
       "        vertical-align: middle;\n",
       "    }\n",
       "\n",
       "    .dataframe tbody tr th {\n",
       "        vertical-align: top;\n",
       "    }\n",
       "\n",
       "    .dataframe thead th {\n",
       "        text-align: right;\n",
       "    }\n",
       "</style>\n",
       "<table border=\"1\" class=\"dataframe\">\n",
       "  <thead>\n",
       "    <tr style=\"text-align: right;\">\n",
       "      <th></th>\n",
       "      <th>year</th>\n",
       "      <th>Q-1</th>\n",
       "      <th>Q-2</th>\n",
       "      <th>Q-3</th>\n",
       "      <th>Q-4</th>\n",
       "      <th>x</th>\n",
       "      <th>t</th>\n",
       "      <th>t2</th>\n",
       "      <th>x*t</th>\n",
       "      <th>trend</th>\n",
       "    </tr>\n",
       "  </thead>\n",
       "  <tbody>\n",
       "    <tr>\n",
       "      <th>0</th>\n",
       "      <td>2008</td>\n",
       "      <td>65</td>\n",
       "      <td>60</td>\n",
       "      <td>61</td>\n",
       "      <td>63</td>\n",
       "      <td>62.25</td>\n",
       "      <td>-2</td>\n",
       "      <td>4</td>\n",
       "      <td>-124.5</td>\n",
       "      <td>63.85</td>\n",
       "    </tr>\n",
       "    <tr>\n",
       "      <th>1</th>\n",
       "      <td>2009</td>\n",
       "      <td>70</td>\n",
       "      <td>58</td>\n",
       "      <td>56</td>\n",
       "      <td>60</td>\n",
       "      <td>61.00</td>\n",
       "      <td>-1</td>\n",
       "      <td>1</td>\n",
       "      <td>-61.0</td>\n",
       "      <td>62.55</td>\n",
       "    </tr>\n",
       "    <tr>\n",
       "      <th>2</th>\n",
       "      <td>2010</td>\n",
       "      <td>68</td>\n",
       "      <td>63</td>\n",
       "      <td>68</td>\n",
       "      <td>67</td>\n",
       "      <td>66.50</td>\n",
       "      <td>0</td>\n",
       "      <td>0</td>\n",
       "      <td>0.0</td>\n",
       "      <td>61.25</td>\n",
       "    </tr>\n",
       "    <tr>\n",
       "      <th>3</th>\n",
       "      <td>2011</td>\n",
       "      <td>65</td>\n",
       "      <td>59</td>\n",
       "      <td>56</td>\n",
       "      <td>62</td>\n",
       "      <td>60.50</td>\n",
       "      <td>1</td>\n",
       "      <td>1</td>\n",
       "      <td>60.5</td>\n",
       "      <td>59.95</td>\n",
       "    </tr>\n",
       "    <tr>\n",
       "      <th>4</th>\n",
       "      <td>2012</td>\n",
       "      <td>60</td>\n",
       "      <td>55</td>\n",
       "      <td>51</td>\n",
       "      <td>58</td>\n",
       "      <td>56.00</td>\n",
       "      <td>2</td>\n",
       "      <td>4</td>\n",
       "      <td>112.0</td>\n",
       "      <td>58.65</td>\n",
       "    </tr>\n",
       "  </tbody>\n",
       "</table>\n",
       "</div>"
      ],
      "text/plain": [
       "   year  Q-1  Q-2  Q-3  Q-4      x  t  t2    x*t  trend\n",
       "0  2008   65   60   61   63  62.25 -2   4 -124.5  63.85\n",
       "1  2009   70   58   56   60  61.00 -1   1  -61.0  62.55\n",
       "2  2010   68   63   68   67  66.50  0   0    0.0  61.25\n",
       "3  2011   65   59   56   62  60.50  1   1   60.5  59.95\n",
       "4  2012   60   55   51   58  56.00  2   4  112.0  58.65"
      ]
     },
     "execution_count": 31,
     "metadata": {},
     "output_type": "execute_result"
    }
   ],
   "source": [
    "# Compute the trend using the equation line\n",
    "link['trend'] = link['t'].apply(lambda t: -1.3*t + 61.25)\n",
    "link"
   ]
  },
  {
   "cell_type": "code",
   "execution_count": 32,
   "id": "44fad6f3",
   "metadata": {},
   "outputs": [
    {
     "name": "stdout",
     "output_type": "stream",
     "text": [
      "Trend effect for quaters -0.325\n"
     ]
    }
   ],
   "source": [
    "# Calculate the trend effect for quaters\n",
    "trend_effect = b1 / 4\n",
    "print(f'Trend effect for quaters {trend_effect}')"
   ]
  },
  {
   "cell_type": "code",
   "execution_count": 33,
   "id": "7ed5fb45",
   "metadata": {},
   "outputs": [],
   "source": [
    "new_data = link.copy()\n",
    "Qt_II = new_data['trend'] - (trend_effect/2)\n",
    "Qt_III = new_data['trend'] + (trend_effect/2)\n",
    "new_data['Q-2'] = Qt_II\n",
    "new_data['Q-3'] = Qt_III\n",
    "Qt_I = new_data['Q-2'] - trend_effect\n",
    "Qt_IV = new_data['Q-3'] + trend_effect\n",
    "new_data['Q-1'] = Qt_I\n",
    "new_data['Q-4'] = Qt_IV\n",
    "new_data.drop(['x', 't', 't2', 'x*t', 'trend'], axis=1, inplace=True)"
   ]
  },
  {
   "cell_type": "code",
   "execution_count": 34,
   "id": "bfb964a6",
   "metadata": {},
   "outputs": [
    {
     "data": {
      "text/html": [
       "<div>\n",
       "<style scoped>\n",
       "    .dataframe tbody tr th:only-of-type {\n",
       "        vertical-align: middle;\n",
       "    }\n",
       "\n",
       "    .dataframe tbody tr th {\n",
       "        vertical-align: top;\n",
       "    }\n",
       "\n",
       "    .dataframe thead th {\n",
       "        text-align: right;\n",
       "    }\n",
       "</style>\n",
       "<table border=\"1\" class=\"dataframe\">\n",
       "  <thead>\n",
       "    <tr style=\"text-align: right;\">\n",
       "      <th></th>\n",
       "      <th>year</th>\n",
       "      <th>Q-1</th>\n",
       "      <th>Q-2</th>\n",
       "      <th>Q-3</th>\n",
       "      <th>Q-4</th>\n",
       "    </tr>\n",
       "  </thead>\n",
       "  <tbody>\n",
       "    <tr>\n",
       "      <th>0</th>\n",
       "      <td>2008</td>\n",
       "      <td>64.3375</td>\n",
       "      <td>64.0125</td>\n",
       "      <td>63.6875</td>\n",
       "      <td>63.3625</td>\n",
       "    </tr>\n",
       "    <tr>\n",
       "      <th>1</th>\n",
       "      <td>2009</td>\n",
       "      <td>63.0375</td>\n",
       "      <td>62.7125</td>\n",
       "      <td>62.3875</td>\n",
       "      <td>62.0625</td>\n",
       "    </tr>\n",
       "    <tr>\n",
       "      <th>2</th>\n",
       "      <td>2010</td>\n",
       "      <td>61.7375</td>\n",
       "      <td>61.4125</td>\n",
       "      <td>61.0875</td>\n",
       "      <td>60.7625</td>\n",
       "    </tr>\n",
       "    <tr>\n",
       "      <th>3</th>\n",
       "      <td>2011</td>\n",
       "      <td>60.4375</td>\n",
       "      <td>60.1125</td>\n",
       "      <td>59.7875</td>\n",
       "      <td>59.4625</td>\n",
       "    </tr>\n",
       "    <tr>\n",
       "      <th>4</th>\n",
       "      <td>2012</td>\n",
       "      <td>59.1375</td>\n",
       "      <td>58.8125</td>\n",
       "      <td>58.4875</td>\n",
       "      <td>58.1625</td>\n",
       "    </tr>\n",
       "  </tbody>\n",
       "</table>\n",
       "</div>"
      ],
      "text/plain": [
       "   year      Q-1      Q-2      Q-3      Q-4\n",
       "0  2008  64.3375  64.0125  63.6875  63.3625\n",
       "1  2009  63.0375  62.7125  62.3875  62.0625\n",
       "2  2010  61.7375  61.4125  61.0875  60.7625\n",
       "3  2011  60.4375  60.1125  59.7875  59.4625\n",
       "4  2012  59.1375  58.8125  58.4875  58.1625"
      ]
     },
     "execution_count": 34,
     "metadata": {},
     "output_type": "execute_result"
    }
   ],
   "source": [
    "new_data"
   ]
  },
  {
   "cell_type": "code",
   "execution_count": 36,
   "id": "3f2e7776",
   "metadata": {},
   "outputs": [
    {
     "data": {
      "text/html": [
       "<div>\n",
       "<style scoped>\n",
       "    .dataframe tbody tr th:only-of-type {\n",
       "        vertical-align: middle;\n",
       "    }\n",
       "\n",
       "    .dataframe tbody tr th {\n",
       "        vertical-align: top;\n",
       "    }\n",
       "\n",
       "    .dataframe thead th {\n",
       "        text-align: right;\n",
       "    }\n",
       "</style>\n",
       "<table border=\"1\" class=\"dataframe\">\n",
       "  <thead>\n",
       "    <tr style=\"text-align: right;\">\n",
       "      <th></th>\n",
       "      <th>year</th>\n",
       "      <th>Q-1</th>\n",
       "      <th>Q-2</th>\n",
       "      <th>Q-3</th>\n",
       "      <th>Q-4</th>\n",
       "    </tr>\n",
       "  </thead>\n",
       "  <tbody>\n",
       "    <tr>\n",
       "      <th>0</th>\n",
       "      <td>2008</td>\n",
       "      <td>101.029726</td>\n",
       "      <td>93.731693</td>\n",
       "      <td>95.780177</td>\n",
       "      <td>99.427895</td>\n",
       "    </tr>\n",
       "    <tr>\n",
       "      <th>1</th>\n",
       "      <td>2009</td>\n",
       "      <td>111.045013</td>\n",
       "      <td>92.485549</td>\n",
       "      <td>89.761571</td>\n",
       "      <td>96.676737</td>\n",
       "    </tr>\n",
       "    <tr>\n",
       "      <th>2</th>\n",
       "      <td>2010</td>\n",
       "      <td>110.143754</td>\n",
       "      <td>102.584979</td>\n",
       "      <td>111.315736</td>\n",
       "      <td>110.265377</td>\n",
       "    </tr>\n",
       "    <tr>\n",
       "      <th>3</th>\n",
       "      <td>2011</td>\n",
       "      <td>107.549121</td>\n",
       "      <td>98.149303</td>\n",
       "      <td>93.665064</td>\n",
       "      <td>104.267395</td>\n",
       "    </tr>\n",
       "    <tr>\n",
       "      <th>4</th>\n",
       "      <td>2012</td>\n",
       "      <td>101.458465</td>\n",
       "      <td>93.517535</td>\n",
       "      <td>87.198119</td>\n",
       "      <td>99.720610</td>\n",
       "    </tr>\n",
       "  </tbody>\n",
       "</table>\n",
       "</div>"
      ],
      "text/plain": [
       "   year         Q-1         Q-2         Q-3         Q-4\n",
       "0  2008  101.029726   93.731693   95.780177   99.427895\n",
       "1  2009  111.045013   92.485549   89.761571   96.676737\n",
       "2  2010  110.143754  102.584979  111.315736  110.265377\n",
       "3  2011  107.549121   98.149303   93.665064  104.267395\n",
       "4  2012  101.458465   93.517535   87.198119   99.720610"
      ]
     },
     "execution_count": 36,
     "metadata": {},
     "output_type": "execute_result"
    }
   ],
   "source": [
    "# Remove the trend from the data Using ratio method\n",
    "new_data = pd.concat([link.year, link.iloc[:,1:5] / new_data.iloc[:, 1:] * 100], axis=1)\n",
    "new_data"
   ]
  },
  {
   "cell_type": "code",
   "execution_count": 37,
   "id": "bbded824",
   "metadata": {},
   "outputs": [
    {
     "name": "stdout",
     "output_type": "stream",
     "text": [
      "Sum up the yearly average seaonality 399.954763897814\n"
     ]
    }
   ],
   "source": [
    "# Seasonal values\n",
    "List = [new_data.iloc[:,i].mean() for i in range(1, 5)]\n",
    "sum =  np.sum(List)\n",
    "print(f'Sum up the yearly average seaonality {sum}')"
   ]
  },
  {
   "cell_type": "code",
   "execution_count": 38,
   "id": "f379f312",
   "metadata": {},
   "outputs": [
    {
     "name": "stdout",
     "output_type": "stream",
     "text": [
      "The correction factor k is 1.0001131030463173\n"
     ]
    }
   ],
   "source": [
    "# Calculate the value of the correction factor k\n",
    "k = 400 / sum\n",
    "print('The correction factor k is', k)"
   ]
  },
  {
   "cell_type": "code",
   "execution_count": 39,
   "id": "5edced42",
   "metadata": {},
   "outputs": [
    {
     "data": {
      "text/plain": [
       "array([106.25723249,  96.10468025,  95.55493956, 102.08314771])"
      ]
     },
     "execution_count": 39,
     "metadata": {},
     "output_type": "execute_result"
    }
   ],
   "source": [
    "# Add the seasonal indices for the dataset\n",
    "seasonal = np.array(List) * k\n",
    "seasonal"
   ]
  },
  {
   "cell_type": "code",
   "execution_count": 40,
   "id": "c11da8ac",
   "metadata": {},
   "outputs": [
    {
     "data": {
      "text/plain": [
       "Q-1    106.257232\n",
       "Q-2     96.104680\n",
       "Q-3     95.554940\n",
       "Q-4    102.083148\n",
       "dtype: float64"
      ]
     },
     "execution_count": 40,
     "metadata": {},
     "output_type": "execute_result"
    }
   ],
   "source": [
    "# Convert into pandas serie\n",
    "seasonal = pd.Series(seasonal, index=avg_lr.index)\n",
    "seasonal "
   ]
  },
  {
   "cell_type": "code",
   "execution_count": 41,
   "id": "6f972a69",
   "metadata": {},
   "outputs": [
    {
     "data": {
      "text/plain": [
       "Q-1    106.649786\n",
       "Q-2     96.251991\n",
       "Q-3     95.274959\n",
       "Q-4    101.823264\n",
       "dtype: float64"
      ]
     },
     "execution_count": 41,
     "metadata": {},
     "output_type": "execute_result"
    }
   ],
   "source": [
    "# Seasonal Index using link relative method\n",
    "index_s"
   ]
  },
  {
   "cell_type": "markdown",
   "id": "a337ab71",
   "metadata": {},
   "source": [
    "* Interpretation: We can conclude that there is non significant variation using both methods  "
   ]
  }
 ],
 "metadata": {
  "kernelspec": {
   "display_name": "Python 3 (ipykernel)",
   "language": "python",
   "name": "python3"
  },
  "language_info": {
   "codemirror_mode": {
    "name": "ipython",
    "version": 3
   },
   "file_extension": ".py",
   "mimetype": "text/x-python",
   "name": "python",
   "nbconvert_exporter": "python",
   "pygments_lexer": "ipython3",
   "version": "3.8.16"
  }
 },
 "nbformat": 4,
 "nbformat_minor": 5
}
